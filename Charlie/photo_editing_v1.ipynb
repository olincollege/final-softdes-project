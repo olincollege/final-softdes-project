{
 "cells": [
  {
   "cell_type": "code",
   "execution_count": 19,
   "metadata": {},
   "outputs": [],
   "source": [
    "from PIL import Image, ImageTk, ImageFilter, ImageEnhance, ImageOps\n",
    "im = Image.open(\"photo1.jpg\")\n",
    "\"\"\"\n",
    "print(im.format, im.size, im.mode)\n",
    "enhancer = ImageEnhance.Brightness(im)\n",
    "factor = 10 #gives original image\n",
    "im_output = enhancer.enhance(factor)\n",
    "im_output.save(\"photo1.jpg\")\n",
    "\"\"\"\n",
    "out = im.resize((128, 128))\n",
    "out = im.rotate(45) # degrees counter-clockwise\n",
    "out.save(\"rotatedimage2.jpg\")\n",
    "\n",
    "\n",
    "out = im.transpose(Image.FLIP_LEFT_RIGHT)\n",
    "out = im.transpose(Image.FLIP_TOP_BOTTOM)\n",
    "out = im.transpose(Image.ROTATE_90)\n",
    "out = im.transpose(Image.ROTATE_180)\n",
    "out = im.transpose(Image.ROTATE_270)\n"
   ]
  },
  {
   "cell_type": "code",
   "execution_count": 5,
   "metadata": {},
   "outputs": [
    {
     "name": "stdout",
     "output_type": "stream",
     "text": [
      "cannot create thumbnail for -f\n",
      "cannot create thumbnail for /home/softdes/.local/share/jupyter/runtime/kernel-da80b7d1-393f-4d2f-a4a2-f5f7db88e2e1.json\n"
     ]
    }
   ],
   "source": [
    "import os, sys\n",
    "from PIL import Image\n",
    "\n",
    "size = (128, 128)\n",
    "\n",
    "for infile in sys.argv[1:]:\n",
    "    outfile = os.path.splitext(infile)[0] + \".thumbnail\"\n",
    "    if infile != outfile:\n",
    "        try:\n",
    "            with Image.open(infile) as im:\n",
    "                im.thumbnail(size)\n",
    "                im.save(outfile, \"JPEG\")\n",
    "        except OSError:\n",
    "            print(\"cannot create thumbnail for\", infile)\n"
   ]
  },
  {
   "cell_type": "code",
   "execution_count": 8,
   "metadata": {},
   "outputs": [
    {
     "name": "stdout",
     "output_type": "stream",
     "text": [
      "This is the name of the program: ['-f', '/home/softdes/.local/share/jupyter/runtime/kernel-da80b7d1-393f-4d2f-a4a2-f5f7db88e2e1.json']\n",
      "Argument List: ['/home/softdes/anaconda3/lib/python3.8/site-packages/ipykernel_launcher.py', '-f', '/home/softdes/.local/share/jupyter/runtime/kernel-da80b7d1-393f-4d2f-a4a2-f5f7db88e2e1.json']\n"
     ]
    }
   ],
   "source": [
    "import sys\n",
    "  \n",
    "print(\"This is the name of the program:\", sys.argv[1:])\n",
    "  \n",
    "print(\"Argument List:\", str(sys.argv))\n"
   ]
  },
  {
   "cell_type": "code",
   "execution_count": null,
   "metadata": {},
   "outputs": [],
   "source": []
  }
 ],
 "metadata": {
  "kernelspec": {
   "display_name": "Python 3",
   "language": "python",
   "name": "python3"
  },
  "language_info": {
   "codemirror_mode": {
    "name": "ipython",
    "version": 3
   },
   "file_extension": ".py",
   "mimetype": "text/x-python",
   "name": "python",
   "nbconvert_exporter": "python",
   "pygments_lexer": "ipython3",
   "version": "3.8.5"
  }
 },
 "nbformat": 4,
 "nbformat_minor": 4
}
